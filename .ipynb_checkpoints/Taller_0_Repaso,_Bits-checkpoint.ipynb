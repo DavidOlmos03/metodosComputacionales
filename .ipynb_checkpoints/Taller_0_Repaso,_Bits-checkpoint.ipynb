{
 "cells": [
  {
   "cell_type": "code",
   "execution_count": 19,
   "metadata": {
    "id": "Xp-VI4J4zShh"
   },
   "outputs": [
    {
     "ename": "ModuleNotFoundError",
     "evalue": "No module named 'numpy'",
     "output_type": "error",
     "traceback": [
      "\u001b[0;31m---------------------------------------------------------------------------\u001b[0m",
      "\u001b[0;31mModuleNotFoundError\u001b[0m                       Traceback (most recent call last)",
      "Cell \u001b[0;32mIn[19], line 1\u001b[0m\n\u001b[0;32m----> 1\u001b[0m \u001b[38;5;28;01mimport\u001b[39;00m \u001b[38;5;21;01mnumpy\u001b[39;00m \u001b[38;5;28;01mas\u001b[39;00m \u001b[38;5;21;01mnp\u001b[39;00m\n\u001b[1;32m      2\u001b[0m \u001b[38;5;28;01mimport\u001b[39;00m \u001b[38;5;21;01mmatplotlib\u001b[39;00m\u001b[38;5;21;01m.\u001b[39;00m\u001b[38;5;21;01mpyplot\u001b[39;00m \u001b[38;5;28;01mas\u001b[39;00m \u001b[38;5;21;01mplt\u001b[39;00m\n\u001b[1;32m      3\u001b[0m get_ipython()\u001b[38;5;241m.\u001b[39mrun_line_magic(\u001b[38;5;124m'\u001b[39m\u001b[38;5;124mmatplotlib\u001b[39m\u001b[38;5;124m'\u001b[39m, \u001b[38;5;124m'\u001b[39m\u001b[38;5;124minline\u001b[39m\u001b[38;5;124m'\u001b[39m)\n",
      "\u001b[0;31mModuleNotFoundError\u001b[0m: No module named 'numpy'"
     ]
    }
   ],
   "source": [
    "import numpy as np\n",
    "import matplotlib.pyplot as plt\n",
    "%matplotlib inline"
   ]
  },
  {
   "cell_type": "markdown",
   "metadata": {
    "id": "KlpXG4rrzShk"
   },
   "source": [
    "# Formato Markdown\n",
    "\n",
    "Permite el uso de LaTeX. Por ejemplo:\n",
    "\n",
    "$$\\frac{1}{2}+x=3$$\n",
    "\n",
    "# Operaciones básicas"
   ]
  },
  {
   "cell_type": "code",
   "execution_count": null,
   "metadata": {
    "colab": {
     "base_uri": "https://localhost:8080/"
    },
    "id": "WjmOmkDYzShl",
    "outputId": "14a58965-f4a2-446d-aac8-adfeb8f98afd"
   },
   "outputs": [
    {
     "data": {
      "text/plain": [
       "-2.4000000000000004"
      ]
     },
     "execution_count": 5,
     "metadata": {},
     "output_type": "execute_result"
    }
   ],
   "source": [
    "#Suma + , -\n",
    "3-5.4"
   ]
  },
  {
   "cell_type": "code",
   "execution_count": null,
   "metadata": {
    "colab": {
     "base_uri": "https://localhost:8080/"
    },
    "id": "zGCDNNetzShl",
    "outputId": "5403a5fc-4179-46f0-e39b-4c1ebea14d3d"
   },
   "outputs": [
    {
     "data": {
      "text/plain": [
       "8.0"
      ]
     },
     "execution_count": 9,
     "metadata": {},
     "output_type": "execute_result"
    }
   ],
   "source": [
    "#Multiplicación *\n",
    "2*4."
   ]
  },
  {
   "cell_type": "code",
   "execution_count": null,
   "metadata": {
    "colab": {
     "base_uri": "https://localhost:8080/"
    },
    "id": "-p91nYv9zShm",
    "outputId": "0c87b031-8360-42ef-b6d3-2ac537490444"
   },
   "outputs": [
    {
     "data": {
      "text/plain": [
       "0.5"
      ]
     },
     "execution_count": 8,
     "metadata": {},
     "output_type": "execute_result"
    }
   ],
   "source": [
    "#División /\n",
    "2/4"
   ]
  },
  {
   "cell_type": "code",
   "execution_count": null,
   "metadata": {
    "colab": {
     "base_uri": "https://localhost:8080/"
    },
    "id": "lhSdGCRSzShm",
    "outputId": "ff9e0f60-c332-4428-a3ee-16f51dd44868"
   },
   "outputs": [
    {
     "data": {
      "text/plain": [
       "2.0"
      ]
     },
     "execution_count": 13,
     "metadata": {},
     "output_type": "execute_result"
    }
   ],
   "source": [
    "#Potencias ** (Raices)\n",
    "4**(1/2)"
   ]
  },
  {
   "cell_type": "markdown",
   "metadata": {
    "id": "9Oo8wZJqzShm"
   },
   "source": [
    "# Listas, Tuplas y Arreglos"
   ]
  },
  {
   "cell_type": "code",
   "execution_count": null,
   "metadata": {
    "colab": {
     "base_uri": "https://localhost:8080/"
    },
    "id": "0lWeErMyzShm",
    "outputId": "997681f2-b262-4ba8-92d6-64ba90d9d617"
   },
   "outputs": [
    {
     "name": "stdout",
     "output_type": "stream",
     "text": [
      "La posición 3 de la lista b es: Mundo\n",
      "Sumar listas: [1, 4, 5, 'Mundo', 'Computacionales', 2, 3, 4, 'Hola', 'Métodos']\n",
      "Sumar elementos de la lista: Hola Mundo\n",
      "Imprimir desde el elemento 1 hasta el elemento 3 [3, 4, 'Hola']\n",
      "Uso de append: [2, 3, 4, 'Hola', 'Métodos', 5]\n"
     ]
    }
   ],
   "source": [
    "#Listas []\n",
    "a = [2,3,4,'Hola','Métodos']\n",
    "b = [1,4,5,'Mundo','Computacionales']\n",
    "\n",
    "#Operaciones con listas\n",
    "print('La posición 3 de la lista b es:',b[3])\n",
    "\n",
    "#Suma de listas (Concatenación)\n",
    "print('Sumar listas:',b+a)\n",
    "\n",
    "print('Sumar elementos de la lista:',a[3]+' '+b[3])\n",
    "\n",
    "#Multiplicación (No se puede, lista a lista, pero si elemento a elemento)\n",
    "\n",
    "#imprimir algunos elementos\n",
    "print('Imprimir desde el elemento 1 hasta el elemento 3',a[1:3+1])\n",
    "\n",
    "#Agregar objetos a las listas\n",
    "a.append(5)\n",
    "print('Uso de append:',a)"
   ]
  },
  {
   "cell_type": "code",
   "execution_count": null,
   "metadata": {
    "colab": {
     "base_uri": "https://localhost:8080/"
    },
    "id": "S3jLn6qAzShn",
    "outputId": "57c5c18f-41c2-4ae9-8462-8d9b170086ae"
   },
   "outputs": [
    {
     "name": "stdout",
     "output_type": "stream",
     "text": [
      "Suma siendo listas: [1, 2, 3, 4, 5, 6, 7, 8, 9, 10]\n",
      "Suma siendo arreglos [ 7  9 11 13 15]\n",
      "Funciones como por ejemplo: Cosenos: [ 0.54030231 -0.41614684 -0.9899925  -0.65364362  0.28366219]\n",
      "--------------------------------\n",
      "np.arange [0.  0.5 1.  1.5 2. ]\n",
      "np.linspace [0.  0.5 1.  1.5 2. ]\n",
      "np.zeros [0. 0. 0. 0. 0.]\n"
     ]
    }
   ],
   "source": [
    "#Arreglos (numpy)\n",
    "a=[1,2,3,4,5]\n",
    "b=[6,7,8,9,10]\n",
    "\n",
    "print('Suma siendo listas:',a+b)\n",
    "\n",
    "#Convertir en arreglos\n",
    "a=np.array(a)\n",
    "b=np.array(b)\n",
    "\n",
    "print('Suma siendo arreglos',a+b)\n",
    "print('Funciones como por ejemplo: Cosenos:',np.cos(a))\n",
    "\n",
    "print('--------------------------------')\n",
    "\n",
    "#Crear arreglos\n",
    "#arange\n",
    "print('np.arange',np.arange(0,2+0.5,0.5)) #Start, Stop, Step\n",
    "#linspace\n",
    "print('np.linspace',np.linspace(0,2,5)) #Start, Stop, Num\n",
    "#zeros\n",
    "print('np.zeros',np.zeros(5)) #Shape\n",
    "\n"
   ]
  },
  {
   "cell_type": "markdown",
   "metadata": {
    "id": "_Fnp1habzShn"
   },
   "source": [
    "# Funciones y Gráficas"
   ]
  },
  {
   "cell_type": "code",
   "execution_count": 1,
   "metadata": {
    "colab": {
     "base_uri": "https://localhost:8080/",
     "height": 587
    },
    "id": "Qgf4HkRrzShn",
    "outputId": "4d8dfb3f-2510-4f82-9c2b-5354857c814d"
   },
   "outputs": [
    {
     "ename": "NameError",
     "evalue": "name 'np' is not defined",
     "output_type": "error",
     "traceback": [
      "\u001b[0;31m---------------------------------------------------------------------------\u001b[0m",
      "\u001b[0;31mNameError\u001b[0m                                 Traceback (most recent call last)",
      "Cell \u001b[0;32mIn[1], line 6\u001b[0m\n\u001b[1;32m      3\u001b[0m   y\u001b[38;5;241m=\u001b[39mnp\u001b[38;5;241m.\u001b[39mcos(x)\u001b[38;5;241m*\u001b[39mnp\u001b[38;5;241m.\u001b[39mexp(\u001b[38;5;241m-\u001b[39mx)\n\u001b[1;32m      4\u001b[0m   \u001b[38;5;28;01mreturn\u001b[39;00m y\n\u001b[0;32m----> 6\u001b[0m x\u001b[38;5;241m=\u001b[39m\u001b[43mnp\u001b[49m\u001b[38;5;241m.\u001b[39mlinspace(\u001b[38;5;241m0\u001b[39m,\u001b[38;5;241m2\u001b[39m\u001b[38;5;241m*\u001b[39mnp\u001b[38;5;241m.\u001b[39mpi,\u001b[38;5;241m10\u001b[39m)\n\u001b[1;32m      7\u001b[0m y\u001b[38;5;241m=\u001b[39mf(x)\n\u001b[1;32m      8\u001b[0m \u001b[38;5;66;03m#print(x)\u001b[39;00m\n\u001b[1;32m      9\u001b[0m \u001b[38;5;66;03m#print(f(x))\u001b[39;00m\n\u001b[1;32m     10\u001b[0m \n\u001b[1;32m     11\u001b[0m \u001b[38;5;66;03m#Gráficas con matplotlib\u001b[39;00m\n",
      "\u001b[0;31mNameError\u001b[0m: name 'np' is not defined"
     ]
    }
   ],
   "source": [
    "#Definición explicita de funciones\n",
    "def f(x):\n",
    "  y=np.cos(x)*np.exp(-x)\n",
    "  return y\n",
    "\n",
    "x=np.linspace(0,2*np.pi,10)\n",
    "y=f(x)\n",
    "#print(x)\n",
    "#print(f(x))\n",
    "\n",
    "#Gráficas con matplotlib\n",
    "\n",
    "plt.figure(figsize=(20,20)) #Inicializa #figsize=(largo, alto)\n",
    "plt.title('Título de la figura: $f(x)$') #Para el título\n",
    "plt.xlabel('$x (m)$') #Para el eje x\n",
    "plt.ylabel('$y (a.u)$') #Para el eje y\n",
    "\n",
    "plt.grid() #Activa el grid\n",
    "\n",
    "plt.plot(x,y,'--',color='red',label='$\\\\cos(x) e^{-x}$')\n",
    "plt.legend()"
   ]
  },
  {
   "cell_type": "markdown",
   "metadata": {
    "id": "AZl4c9gQzShn"
   },
   "source": [
    "# Variables lógicas\n",
    "\n",
    "Se les asígnan valores binarios: $\\textbf{True, False}$"
   ]
  },
  {
   "cell_type": "code",
   "execution_count": 9,
   "metadata": {
    "id": "51XAgGIIzShn",
    "outputId": "58efed9f-8160-4a45-ef86-428ce41e86bd"
   },
   "outputs": [
    {
     "name": "stdout",
     "output_type": "stream",
     "text": [
      "Desigualdades\n",
      "Igualdades\n",
      "p y q False\n",
      "p o q True\n",
      "negar p False\n"
     ]
    }
   ],
   "source": [
    "p = True\n",
    "q = False\n",
    "\n",
    "print('Desigualdades')\n",
    "print('Igualdades')\n",
    "\n",
    "#Operaciones\n",
    "print('p y q', p and q)\n",
    "print('p o q', p or q)\n",
    "print('negar p',  not p)"
   ]
  },
  {
   "cell_type": "markdown",
   "metadata": {
    "id": "_CZ2BsTgzShn"
   },
   "source": [
    "# Condicionales\n",
    "\n",
    "$\\textbf{if, elif, else}$ funcionan según las variables lógicas"
   ]
  },
  {
   "cell_type": "code",
   "execution_count": null,
   "metadata": {
    "id": "ZjUqDgWnzSho"
   },
   "outputs": [],
   "source": []
  },
  {
   "cell_type": "markdown",
   "metadata": {
    "id": "d3bUnrXGzSho"
   },
   "source": [
    "# Ciclos\n",
    "\n",
    "$\\textbf{for}$: funciona dentro de un límite elegido\n",
    "\n",
    "$\\textbf{while}$: funciona según el valor de variables lógicas"
   ]
  },
  {
   "cell_type": "code",
   "execution_count": 17,
   "metadata": {
    "id": "FXXlTSZEzSho"
   },
   "outputs": [
    {
     "ename": "SyntaxError",
     "evalue": "invalid syntax (1431464821.py, line 1)",
     "output_type": "error",
     "traceback": [
      "\u001b[0;36m  Cell \u001b[0;32mIn[17], line 1\u001b[0;36m\u001b[0m\n\u001b[0;31m    install numpy\u001b[0m\n\u001b[0m            ^\u001b[0m\n\u001b[0;31mSyntaxError\u001b[0m\u001b[0;31m:\u001b[0m invalid syntax\n"
     ]
    }
   ],
   "source": [
    "install numpy\n",
    "import numpy as np\n",
    "x = [1,2,3,\"yellow\"]\n",
    "for i in x:\n",
    "    print(i)"
   ]
  },
  {
   "cell_type": "markdown",
   "metadata": {
    "id": "gWSBmNH8zSho"
   },
   "source": [
    "# Ejercicios\n",
    "\n",
    "1. Escribir un programa que pregunte al usuario su edad y muestre por pantalla si es mayor de edad o no\n",
    "\n",
    "\n",
    "2. Escribir un programa que pida al usuario un número entero y muestre por pantalla si es par o impar.\n",
    "\n",
    "\n",
    "3. Una pizzería ofrece pizzas vegetarianas y no vegetarianas a sus clientes. Los sabores para cada tipo de pizza aparecen a continuación. Sabores vegetarianos: Vegetales y Napolitana. Ingredientes no vegetarianos: Peperoni, Jamon y Ranchera. Escribir un programa que pregunte al usuario si quiere una pizza vegetariana o no, y en función de su respuesta le muestre un menú con los sabores disponibles para que elija. Preguntele además si desea ordenar otra pizza. Al final imprima todos los pedidos."
   ]
  },
  {
   "cell_type": "code",
   "execution_count": 3,
   "metadata": {
    "id": "gMPSwSIFzSho"
   },
   "outputs": [
    {
     "name": "stdin",
     "output_type": "stream",
     "text": [
      "Edad:  18\n"
     ]
    },
    {
     "name": "stdout",
     "output_type": "stream",
     "text": [
      "El usuario es mayor de edad\n"
     ]
    }
   ],
   "source": [
    "edad = int(input(\"Edad: \"))\n",
    "if edad >= 18:\n",
    "    print(\"El usuario es mayor de edad\")\n",
    "else:\n",
    "    print(\"El usuario es menor de edad\")"
   ]
  },
  {
   "cell_type": "code",
   "execution_count": 9,
   "metadata": {
    "id": "9oL_1Fl7zSho"
   },
   "outputs": [
    {
     "name": "stdin",
     "output_type": "stream",
     "text": [
      "Ingrese un número entero:  6\n"
     ]
    },
    {
     "name": "stdout",
     "output_type": "stream",
     "text": [
      "El número es par\n"
     ]
    }
   ],
   "source": [
    "num = int(input(\"Ingrese un número entero: \"))\n",
    "if num%2 == 0:\n",
    "    print(\"El número es par\")\n",
    "else:\n",
    "    print(\"El número es impar\")"
   ]
  },
  {
   "cell_type": "code",
   "execution_count": null,
   "metadata": {
    "id": "r9FW45eIzSho"
   },
   "outputs": [],
   "source": [
    "orden = 1\n",
    "ordenes = []\n",
    "\n",
    "while orden == 1:\n",
    "    try:\n",
    "        tipo_piza = int(input(\"Seleccione el tipo de piza: \\n1.Vegetariana \\n2.No Vegetariana\"))\n",
    "    \n",
    "        if tipo_piza == 1:\n",
    "            sabor = int(input(\"Sabores: \\n1.Vegetales \\n2.Napolitana\"))\n",
    "        elif tipo_piza == 2:\n",
    "            sabor = int(input(\"Sabores: \\n1.Peperoni \\n2.Jamón \\n3.Ranchera\"))\n",
    "\n",
    "        ordenes.append(tipo_piza,\"/\",sabor)\n",
    "        orden = int(input(\"Desea ordenar otra pizza\"))\n",
    "    except ValueError as e:\n",
    "        print(f\"Error: {e}. Por favor, ingrese un valor válido.\")\n",
    "print(\"ordenes: \",ordenes)"
   ]
  },
  {
   "cell_type": "markdown",
   "metadata": {
    "id": "uxvjE6ugzSho"
   },
   "source": [
    "## Taller # 0"
   ]
  },
  {
   "cell_type": "markdown",
   "metadata": {
    "id": "DhPhn1eqzSho"
   },
   "source": [
    "# Objetivos de hoy\n",
    "\n",
    "- Unidades básicas de computación e información\n",
    "- Resolución numérica\n",
    "- Errores de precisión y redondeo"
   ]
  },
  {
   "cell_type": "markdown",
   "metadata": {
    "id": "9KM8v0MBzSho"
   },
   "source": [
    "# Unidades básicas de computación e información\n",
    "\n",
    "La unidad básica de computación e información es el $\\textbf{bit}$ y puede tomar valores binarios, estos valores binarios se les asigna $\\textbf{0,1}$\n",
    "\n",
    "Un número $\\textbf{entero}$ puede descomponerse en su representación binaria:\n",
    "\n",
    "```c\n",
    "       10/2     0\n",
    "       5/2      1\n",
    "       2/2      0\n",
    "       1/2      1\n",
    "```  \n",
    "\n",
    "$10 = 1\\times2^3 + 0\\times2^2 + 1\\times2^1 + 0\\times2^0$\n",
    "\n",
    "$10=1010_2$\n",
    "\n",
    "$10.3125 = 1010..._2$\n",
    "\n",
    "Un número de $\\textbf{punto flotante}$ también puede descomponerse en su representación binaria:\n",
    "\n",
    "```c\n",
    "        Parte entera          Parte fracional\n",
    "       10/2     0          0.3125*2=0.625     0     \n",
    "       5/2      1           0.625*2=1.25      1\n",
    "       2/2      0            0.25*2=0.5       0\n",
    "       1/2      1             0.5*2=1.0       1\n",
    "```  \n",
    "\n",
    "$10 = 1\\times2^3 + 0\\times2^2 + 1\\times2^1 + 0\\times2^0$\n",
    "\n",
    "$0.3125 = 0\\times2^{-1} + 1\\times2^{-2} + 0\\times2^{-3} + 1\\times2^{-4}$\n",
    "\n",
    "$10.3125 = 1010.0101_2$"
   ]
  },
  {
   "cell_type": "code",
   "execution_count": null,
   "metadata": {
    "id": "7RiTSYDqzSho"
   },
   "outputs": [],
   "source": []
  },
  {
   "cell_type": "markdown",
   "metadata": {
    "id": "4ZswkQQ7zSho"
   },
   "source": [
    "# Resolución numérica\n",
    "\n",
    "### ¿Cuántos números puedo representar con n bits? ¿Cuántás combinaciones posibles puedo armar con 0 o 1?\n",
    "\n",
    "Se puede representar $2^n$ números distintos"
   ]
  },
  {
   "cell_type": "code",
   "execution_count": null,
   "metadata": {
    "id": "Y_eP_1lczSho"
   },
   "outputs": [],
   "source": []
  },
  {
   "cell_type": "markdown",
   "metadata": {
    "id": "7l180784zSho"
   },
   "source": [
    "###### Dependiendo de la arquitectura del computador se pueden representar números de 32 o 64 bits\n",
    "\n",
    "##### Convención IEEE 754\n",
    "\n",
    "<img src=\"float64.png\" alt=\"drawing\" width=\"500\"/>\n"
   ]
  },
  {
   "cell_type": "code",
   "execution_count": null,
   "metadata": {
    "id": "DAMHdT7SzSho",
    "outputId": "fff1cdf9-c247-4f02-df78-5072bf3e37f8"
   },
   "outputs": [
    {
     "name": "stdout",
     "output_type": "stream",
     "text": [
      "Posibilidades con 32 bits\n",
      "Posibilidades con 64 bits\n"
     ]
    }
   ],
   "source": [
    "print('Posibilidades con 32 bits') #Single precission\n",
    "print('Posibilidades con 64 bits') #Double precission"
   ]
  },
  {
   "cell_type": "markdown",
   "metadata": {
    "id": "VEjHkvV2zSho"
   },
   "source": [
    "###### 32 bits\n",
    "\n",
    "$$(-1)^s (1+f)2^{e-127}$$\n",
    "\n",
    "$$s=b_{31}$$\n",
    "\n",
    "$$f=\\sum_{i=1}^{23} b_{23-i} 2^{-i}$$\n",
    "\n",
    "$$e=\\sum_{i=0}^7 b_{23+i} 2^{i}$$"
   ]
  },
  {
   "cell_type": "code",
   "execution_count": null,
   "metadata": {
    "id": "WbceMNcSzSho",
    "outputId": "54199423-885d-40bd-f037-adeeffcdf008"
   },
   "outputs": [
    {
     "name": "stdout",
     "output_type": "stream",
     "text": [
      "mínimo exponente\n",
      "máximo exponente,\n",
      "mínimo número\n"
     ]
    }
   ],
   "source": [
    "print('mínimo exponente')\n",
    "print('máximo exponente,')\n",
    "print('mínimo número')"
   ]
  },
  {
   "cell_type": "code",
   "execution_count": null,
   "metadata": {
    "id": "UnckUloEzSho"
   },
   "outputs": [],
   "source": []
  },
  {
   "cell_type": "code",
   "execution_count": null,
   "metadata": {
    "id": "tSgIkP05zSho"
   },
   "outputs": [],
   "source": []
  },
  {
   "cell_type": "code",
   "execution_count": null,
   "metadata": {
    "id": "eY_whwE0zSho"
   },
   "outputs": [],
   "source": []
  },
  {
   "cell_type": "markdown",
   "metadata": {
    "id": "Y-Zne4GCzShp"
   },
   "source": [
    "###### 64 bits\n",
    "\n",
    "$$(-1)^s (1+f)2^{e-1023}$$\n",
    "\n",
    "$$s=b_{63}$$\n",
    "\n",
    "$$f=\\sum_{i=1}^{52} b_{52-i} 2^{-i}$$\n",
    "\n",
    "$$e=\\sum_{i=0}^{10} b_{52+i} 2^{i}$$"
   ]
  },
  {
   "cell_type": "code",
   "execution_count": null,
   "metadata": {
    "id": "6a-hY8_FzShp",
    "outputId": "f3f5622f-8adc-490a-9f88-a7ed37bb4e07"
   },
   "outputs": [
    {
     "name": "stdout",
     "output_type": "stream",
     "text": [
      "Comparación de resolución:\n",
      "32 bits\n",
      "64 bits\n"
     ]
    }
   ],
   "source": [
    "print('Comparación de resolución:')\n",
    "print('32 bits')\n",
    "print('64 bits')"
   ]
  },
  {
   "cell_type": "markdown",
   "metadata": {
    "id": "ckU6vX7qzShp"
   },
   "source": [
    "# Errores de precisión y redondeo\n",
    "\n",
    "Los números al estar limitados al tamaño de bits generan errores\n",
    "\n",
    "### Ejemplos\n",
    "\n",
    "###### Sumas\n",
    "\n",
    "$$\\frac{1}{9}+\\frac{1}{9}+\\frac{1}{9}+\\frac{1}{9}+\\frac{1}{9}+\\frac{1}{9}+\\frac{1}{9}+\\frac{1}{9}+\\frac{1}{9}=1$$\n",
    "\n",
    "$$\\frac{5}{7}+\\frac{1}{3}=\\frac{22}{21}$$"
   ]
  },
  {
   "cell_type": "code",
   "execution_count": null,
   "metadata": {
    "id": "M-G0ISWezShp"
   },
   "outputs": [],
   "source": []
  },
  {
   "cell_type": "code",
   "execution_count": null,
   "metadata": {
    "id": "ADkkHj6RzShp"
   },
   "outputs": [],
   "source": []
  },
  {
   "cell_type": "markdown",
   "metadata": {
    "id": "Qqf5ayKgzShs"
   },
   "source": [
    "###### Multiplicación\n",
    "\n",
    "$$2^{1/5}\\times2^{1/5}\\times2^{1/5}\\times2^{1/5}\\times2^{1/5}=2$$"
   ]
  },
  {
   "cell_type": "code",
   "execution_count": null,
   "metadata": {
    "id": "B7cFqEVXzShs"
   },
   "outputs": [],
   "source": []
  }
 ],
 "metadata": {
  "colab": {
   "provenance": []
  },
  "kernelspec": {
   "display_name": "Python 3 (ipykernel)",
   "language": "python",
   "name": "python3"
  },
  "language_info": {
   "codemirror_mode": {
    "name": "ipython",
    "version": 3
   },
   "file_extension": ".py",
   "mimetype": "text/x-python",
   "name": "python",
   "nbconvert_exporter": "python",
   "pygments_lexer": "ipython3",
   "version": "3.9.19"
  }
 },
 "nbformat": 4,
 "nbformat_minor": 4
}
