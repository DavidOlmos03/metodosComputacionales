{
 "cells": [
  {
   "cell_type": "code",
   "execution_count": 17,
   "metadata": {},
   "outputs": [],
   "source": [
    "import numpy as np\n",
    "import matplotlib.pyplot as plt"
   ]
  },
  {
   "cell_type": "markdown",
   "metadata": {},
   "source": [
    "# interpolar \n",
    "Se refiere a \"unir puntos mediante una función\""
   ]
  },
  {
   "cell_type": "markdown",
   "metadata": {},
   "source": [
    "# Interpolación lineal\n",
    "\n",
    "Es el método mas sencillo de aproximar una función $$ f(x)=y $$esto por medio de una linea recta para cada par de puntos.\n",
    "\n",
    "$$ y = y_i + \\frac{y_{i+1} - y_i}{x_{i+1} - x_i}(x-x_i) $$"
   ]
  },
  {
   "cell_type": "code",
   "execution_count": 8,
   "metadata": {},
   "outputs": [],
   "source": [
    "#------------------- Interpolación lineal ----------------------------\n",
    "import numpy as np\n",
    "import matplotlib.pyplot as plt\n",
    "\n",
    "def Interpolacion_lineal(xi,yi, n=10):\n",
    "   ''' Interpolación lineal, esta función toma 2 arrays.\n",
    "       y grafica la interpolacion usando 5 puntos.'''\n",
    "\n",
    "   for i in range(len(xi)-1):\n",
    "      # dividimos el intervalo i,i+1 en n pedasos\n",
    "      x = np.linspace(xi[i], xi[i+1], n, endpoint=False) # no usar el último punto\n",
    "\n",
    "      # funcion que hace interpolacion lineal en i,i+1\n",
    "      f = lambda x: yi[i]+(yi[i+1]-yi[i])/(xi[i+1]-xi[i])*(x-xi[i])\n",
    "\n",
    "      # array con los puntos interpolados en el intervalo i,i+1\n",
    "      y = np.array([ f(xk) for xk in x ]) # xk son los valores de x en i,i+1\n",
    "\n",
    "      plt.plot(x,y,\".\", ms=1)  # grificar los 5 datos x,f(x) interpolados\n",
    "\n",
    "   plt.grid()\n",
    "   plt.show()"
   ]
  },
  {
   "cell_type": "code",
   "execution_count": 9,
   "metadata": {},
   "outputs": [
    {
     "data": {
      "image/png": "[encoded data removed]",
      "text/plain": [
       "<Figure size 640x480 with 1 Axes>"
      ]
     },
     "metadata": {},
     "output_type": "display_data"
    }
   ],
   "source": [
    "# datos a interpolar, en este caso se generan por la función seno:\n",
    "xi = np.linspace(0,np.pi,10)# 20 datos tomados en (0,pi)\n",
    "yi = np.sin(xi)\n",
    "plt.plot(xi,yi,'+')         # graficar los puntos a interpolar\n",
    "Interpolacion_lineal(xi,yi) # llamamos la función que es evaluada n\n",
    "                            # veces entre cada par de puntos"
   ]
  },
  {
   "cell_type": "markdown",
   "metadata": {},
   "source": [
    "# Método de Lagrange"
   ]
  },
  {
   "cell_type": "markdown",
   "metadata": {},
   "source": [
    "En este método se utilizan aproximaciones polinomiales, las cuales funcionan para un intervalo, no solo para puntos particulares:\n",
    "$$ P(x) = \\sum_{k=0}^{n}f(x_k)L_k(x) $$\n",
    "\n",
    "para cada $ k = 0,1,...,n$ y\n",
    "\n",
    "$$ L_k(x) = \\prod_{i=0 \\\\ i \\neq k}^{n} \\frac{(x-x_i)}{(x_k - x_i)} $$\n",
    "\n",
    "Note que $ i \\neq k$"
   ]
  },
  {
   "cell_type": "markdown",
   "metadata": {},
   "source": [
    "<div class=\"alert alert-danger\">\n",
    "    Primero encontramos el polinomio de lagrange con la función P_n, luego lo utilizamos en en la función Interpolación_Lagrange\n",
    "</div>"
   ]
  },
  {
   "cell_type": "code",
   "execution_count": 1,
   "metadata": {},
   "outputs": [],
   "source": [
    "#--------------- Polinomio  de Lagrange metodo 1 -------------------------\n",
    "import numpy as np\n",
    "import matplotlib.pyplot as plt\n",
    "\n",
    "\n",
    "def P_n(xi,yi,x):\n",
    "    '''\n",
    "     *** P_n(x): polinomio de grado n evaluado en x ***\n",
    "    Función del polinomio de lagrange (forma\n",
    "    intuitiva de programación a partir de la definición).\n",
    "    '''\n",
    "\n",
    "    n = len(xi)          # grado del polinomio\n",
    "    S = 0.0              # inicialización sumatoria\n",
    "    for k in range(n):   # Sumatoria del polinomio en n+1 elementos\n",
    "        # Forma intuitiva a partir de la fórmula\n",
    "        L = 1\n",
    "        for i in range(n):\n",
    "            if i != k:\n",
    "                L = L*(x-xi[i])/(xi[k]-xi[i])\n",
    "\n",
    "        S  = S + yi[k]*L\n",
    "\n",
    "    return S"
   ]
  },
  {
   "cell_type": "markdown",
   "metadata": {},
   "source": [
    "\n",
    "**Ejemplo 2)** en el ejemplo 1) encontramos analíticamente que, $f(x)=\\sqrt{x} \\approx −0.11438\\,x^2 + 0.75736\\,x + 0.35702 $, al interpolar en puntos $ x_i = (1/2, 1, 2)$ y $y_i =(1/\\sqrt{2}, 1, \\sqrt{2})$, verifiquemos con `sympy` que la rutina anterior recupera este polinomio:\n"
   ]
  },
  {
   "cell_type": "code",
   "execution_count": 2,
   "metadata": {},
   "outputs": [
    {
     "data": {
      "text/latex": [
       "$\\displaystyle - 0.114381916835873 x^{2} + 0.757359312880715 x + 0.357022603955158$"
      ],
      "text/plain": [
       "                     2                                          \n",
       "- 0.114381916835873⋅x  + 0.757359312880715⋅x + 0.357022603955158"
      ]
     },
     "execution_count": 2,
     "metadata": {},
     "output_type": "execute_result"
    }
   ],
   "source": [
    "import sympy as sp\n",
    "sp.init_printing(use_latex='mathjax') # para imprimir de manera bonita (latex)\n",
    "x=sp.Symbol('x')                      # crear variable simbolica\n",
    "#xi=[sp.Rational(1,2),1,2]\n",
    "#yi=[1/sp.sqrt(2),1,sp.sqrt(2)]\n",
    "xi=[1/2,1,2]\n",
    "yi=[1/np.sqrt(2),1,np.sqrt(2)]\n",
    "sp.expand(P_n(xi,yi,x))\n",
    "#P_n(xi,yi,x)"
   ]
  },
  {
   "cell_type": "code",
   "execution_count": 3,
   "metadata": {},
   "outputs": [],
   "source": [
    "#-------------------- Interpolación de Lagrange --------------------------\n",
    "# Se hace una segunda función que llama P_n interpola\n",
    "def Interpolacion_Lagrange(xi,yi,eps):\n",
    "   ''' Esta funcion toma n+1 pares (xi,yi) de datos y los interpola\n",
    "       en intervalo (x0,xn) usando el metodo de lagrange.'''\n",
    "\n",
    "   n = len(xi)-1 # el array tiene n+1 elementos.\n",
    "   print (\"El grado del Pn(x) es:\",n)\n",
    "\n",
    "   x = np.arange(xi[0],xi[n], eps)  # Valores a interpolar\n",
    "   P = np.array([P_n(xi,yi,xk) for xk in x]) # Polinomio P(x) de grado n evaluado en x\n",
    "\n",
    "   plt.plot(x,P,label=\"Lagrange\")       # Graficar interpolación de lagrange.\n",
    "   plt.legend()\n",
    "   plt.show()"
   ]
  },
  {
   "cell_type": "code",
   "execution_count": 6,
   "metadata": {},
   "outputs": [
    {
     "name": "stdout",
     "output_type": "stream",
     "text": [
      "El grado del Pn(x) es: 4\n"
     ]
    },
    {
     "data": {
      "image/png": "[encoded data removed]",
      "text/plain": [
       "<Figure size 640x480 with 1 Axes>"
      ]
     },
     "metadata": {},
     "output_type": "display_data"
    }
   ],
   "source": [
    "# ejemplo 3\n",
    "xi = np.linspace(0,np.pi,5)# 5 datos tomados en (0,pi).\n",
    "yi = np.sin(xi)            # 5 datos tomados de la función seno.\n",
    "plt.plot(xi,yi,'*',label='datos')  # graficar los puntos a interpolar\n",
    "\n",
    "Interpolacion_Lagrange(xi,yi, 0.01) # llamamos la función"
   ]
  },
  {
   "cell_type": "code",
   "execution_count": 8,
   "metadata": {},
   "outputs": [
    {
     "data": {
      "text/latex": [
       "$\\displaystyle 0.0375757673118033 x^{4} - 0.236095509079522 x^{3} + 0.0582877134742557 x^{2} + 0.981968385299078 x$"
      ],
      "text/plain": [
       "                    4                      3                       2           ↪\n",
       "0.0375757673118033⋅x  - 0.236095509079522⋅x  + 0.0582877134742557⋅x  + 0.98196 ↪\n",
       "\n",
       "↪             \n",
       "↪ 8385299078⋅x"
      ]
     },
     "execution_count": 8,
     "metadata": {},
     "output_type": "execute_result"
    }
   ],
   "source": [
    "x = sp.Symbol('x') # crear variable simbolica\n",
    "f = sp.expand(P_n(xi,yi,x))\n",
    "f\n",
    "# Si desea solo 3 cifras significativas habilite estas lineas:\n",
    "#d = {n : round(n,3) for n in f.atoms(sp.Number)} # diccionario con remplazos\n",
    "#f.xreplace(d)                                    # imprima con menos cifras"
   ]
  },
  {
   "cell_type": "markdown",
   "metadata": {},
   "source": [
    "Tarea taller:\n",
    "1. 50 o 40 datos Graficar todos los posibles errores promedios\n",
    "2. Llevar lineal y lagrange a una aplicación física a la ecuación de kepler, encontrando el periodo de la orbita, encontrar el tiempo cuando se repite la grafica, es decir cuando  \n",
    " "
   ]
  },
  {
   "cell_type": "code",
   "execution_count": null,
   "metadata": {},
   "outputs": [],
   "source": []
  }
 ],
 "metadata": {
  "kernelspec": {
   "display_name": "base",
   "language": "python",
   "name": "python3"
  },
  "language_info": {
   "codemirror_mode": {
    "name": "ipython",
    "version": 3
   },
   "file_extension": ".py",
   "mimetype": "text/x-python",
   "name": "python",
   "nbconvert_exporter": "python",
   "pygments_lexer": "ipython3",
   "version": "3.12.3"
  }
 },
 "nbformat": 4,
 "nbformat_minor": 2
}
