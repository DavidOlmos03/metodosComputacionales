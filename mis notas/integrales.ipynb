{
 "cells": [
  {
   "cell_type": "code",
   "execution_count": 59,
   "metadata": {},
   "outputs": [],
   "source": [
    "import numpy as np\n",
    "import matplotlib.pyplot as plt\n",
    "from tqdm import tqdm"
   ]
  },
  {
   "cell_type": "code",
   "execution_count": 62,
   "metadata": {},
   "outputs": [],
   "source": [
    "\n",
    "def cuadratura(f,a,b,n):\n",
    "    h = (b-a)/n\n",
    "    S = 0\n",
    "    #! Revisar la sumatoria de 1 a n\n",
    "    #? Esta sumatoria va de 0 a n-1\n",
    "    for i in tqdm(range(n)):\n",
    "        x = a + h*i\n",
    "        S += f(x)*h\n",
    "    return S"
   ]
  },
  {
   "cell_type": "code",
   "execution_count": 63,
   "metadata": {},
   "outputs": [
    {
     "name": "stderr",
     "output_type": "stream",
     "text": [
      "  0%|          | 0/10000 [00:00<?, ?it/s]"
     ]
    },
    {
     "name": "stderr",
     "output_type": "stream",
     "text": [
      "100%|██████████| 10000/10000 [00:00<00:00, 261936.09it/s]\n"
     ]
    },
    {
     "data": {
      "text/plain": [
       "np.float64(1.0000785377601717)"
      ]
     },
     "execution_count": 63,
     "metadata": {},
     "output_type": "execute_result"
    }
   ],
   "source": [
    "#x = np.arange(0, 2*np.pi, .1)\n",
    "#f = lambda x: np.cos(x)\n",
    "cuadratura(lambda x: np.cos(x), 0, np.pi/2, 10000)"
   ]
  },
  {
   "cell_type": "code",
   "execution_count": 57,
   "metadata": {},
   "outputs": [],
   "source": [
    "def trapezoidal(f,a,b,n):\n",
    "    h = (b-a)/n\n",
    "    S = 0\n",
    "    for i in tqdm(range(1,n)):\n",
    "        xi = a + h*i\n",
    "        S += f(xi) \n",
    "    p1 = f(a) + 2*S + f(b)\n",
    "    I = (h/2)*p1\n",
    "    return I"
   ]
  },
  {
   "cell_type": "code",
   "execution_count": 61,
   "metadata": {},
   "outputs": [
    {
     "name": "stderr",
     "output_type": "stream",
     "text": [
      "  0%|          | 0/9999 [00:00<?, ?it/s]"
     ]
    },
    {
     "name": "stderr",
     "output_type": "stream",
     "text": [
      "100%|██████████| 9999/9999 [00:00<00:00, 416700.74it/s]\n"
     ]
    },
    {
     "data": {
      "text/plain": [
       "np.float64(0.9999999979438344)"
      ]
     },
     "execution_count": 61,
     "metadata": {},
     "output_type": "execute_result"
    }
   ],
   "source": [
    "trapezoidal(lambda x: np.cos(x), 0, np.pi/2, 10000)"
   ]
  },
  {
   "cell_type": "code",
   "execution_count": 132,
   "metadata": {},
   "outputs": [],
   "source": [
    "def simpson(f,a,b,n):\n",
    "    S1 = 0\n",
    "    S2 = 0\n",
    "    h = (b-a)/n\n",
    "    # sumatoria con pares\n",
    "    for i in tqdm(range(2,n,2)):\n",
    "        xi = a + h*i\n",
    "        if i%2 == 0:\n",
    "            S2 += f(xi) \n",
    "    # sumatoria con impares\n",
    "    for i in tqdm(range(1,n+1,2)):\n",
    "        xi = a + h*i\n",
    "        if i%2 != 0:\n",
    "            S1 += f(xi)\n",
    "    p1 = (h/3) * (f(a) + (2*S1) + (4*S2) + f(b))\n",
    "    return p1 \n",
    "    "
   ]
  },
  {
   "cell_type": "code",
   "execution_count": 133,
   "metadata": {},
   "outputs": [
    {
     "name": "stderr",
     "output_type": "stream",
     "text": [
      "100%|██████████| 4999/4999 [00:00<00:00, 824187.33it/s]\n",
      "100%|██████████| 5000/5000 [00:00<00:00, 891456.75it/s]\n"
     ]
    },
    {
     "data": {
      "text/plain": [
       "np.float64(0.9999476360101022)"
      ]
     },
     "execution_count": 133,
     "metadata": {},
     "output_type": "execute_result"
    }
   ],
   "source": [
    "simpson(np.cos, 0, np.pi/2, 10000)"
   ]
  },
  {
   "cell_type": "code",
   "execution_count": 135,
   "metadata": {},
   "outputs": [],
   "source": [
    "# forma 2 \n",
    "def simpson2(f,a,b,n):\n",
    "    S1 = 0\n",
    "    S2 = 0\n",
    "    h = (b-a)/n\n",
    "    for xi in tqdm([a + h*i for i in range(2,n,2)]):  # sumatoria con pares\n",
    "        S2 += f(xi) \n",
    "    for xi in tqdm([a+h*i for i in range(1,n+1,2)]): # sumatoria con impares\n",
    "        S1 += f(xi)\n",
    "    p1 = (h/3) * (f(a) + (2*S1) + (4*S2) + f(b))\n",
    "    print(p1) "
   ]
  },
  {
   "cell_type": "code",
   "execution_count": 131,
   "metadata": {},
   "outputs": [
    {
     "name": "stderr",
     "output_type": "stream",
     "text": [
      "100%|██████████| 4999/4999 [00:00<00:00, 514068.84it/s]\n",
      "100%|██████████| 5000/5000 [00:00<00:00, 526538.95it/s]\n"
     ]
    },
    {
     "data": {
      "text/plain": [
       "np.float64(0.9999476360101022)"
      ]
     },
     "execution_count": 131,
     "metadata": {},
     "output_type": "execute_result"
    }
   ],
   "source": [
    "simpson2(np.cos, 0, np.pi/2, 10000)"
   ]
  },
  {
   "cell_type": "markdown",
   "metadata": {},
   "source": [
    "Terminos: \n",
    "    Factores de peso: Porcentaje que contribuye a cierta suma total"
   ]
  },
  {
   "cell_type": "markdown",
   "metadata": {},
   "source": []
  }
 ],
 "metadata": {
  "kernelspec": {
   "display_name": ".venv",
   "language": "python",
   "name": "python3"
  },
  "language_info": {
   "codemirror_mode": {
    "name": "ipython",
    "version": 3
   },
   "file_extension": ".py",
   "mimetype": "text/x-python",
   "name": "python",
   "nbconvert_exporter": "python",
   "pygments_lexer": "ipython3",
   "version": "3.12.3"
  }
 },
 "nbformat": 4,
 "nbformat_minor": 2
}
