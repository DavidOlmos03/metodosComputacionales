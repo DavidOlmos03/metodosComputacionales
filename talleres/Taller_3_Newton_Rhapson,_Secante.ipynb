{
  "cells": [
    {
      "cell_type": "code",
      "execution_count": null,
      "metadata": {
        "id": "vMI2Mvj3AURW"
      },
      "outputs": [],
      "source": [
        "import numpy as np\n",
        "import matplotlib.pyplot as plt\n",
        "from tqdm import tqdm\n",
        "%matplotlib inline"
      ]
    },
    {
      "cell_type": "markdown",
      "metadata": {
        "id": "LG3zg_UBAURZ"
      },
      "source": [
        "- Construir Método de Newton Raphson\n",
        "- Construir Método de Secante\n",
        "- Construir Método de Posición Falsa (Regla Falsa Regula falsi)"
      ]
    },
    {
      "cell_type": "code",
      "execution_count": null,
      "metadata": {
        "id": "IUyzo1RYAURZ"
      },
      "outputs": [],
      "source": [
        "#Clase pasada\n",
        "def biseccion(f,a,b,tol):\n",
        "    if f(a)*f(b)>=0:\n",
        "        return 'Error f(a) y f(b) deben tener signo contrario'\n",
        "\n",
        "    p=(a+b)/2\n",
        "\n",
        "    n=0\n",
        "\n",
        "    while abs(f(p))>tol:\n",
        "\n",
        "        if f(a)*f(p)<0:\n",
        "            b=p\n",
        "        if f(p)*f(b)<0:\n",
        "            a=p\n",
        "\n",
        "        p=(a+b)/2\n",
        "        n+=1\n",
        "\n",
        "    print('Raiz encontrada en ', n,' iteraciones')\n",
        "\n",
        "    return p\n",
        "\n",
        "\n",
        "def punto_fijo(f,p0,Nmax):\n",
        "    def g(x):\n",
        "        return f(x) + x\n",
        "\n",
        "    n=0\n",
        "    p=p0\n",
        "\n",
        "    while n<Nmax:\n",
        "        p=g(p)\n",
        "        n+=1\n",
        "\n",
        "    return p"
      ]
    },
    {
      "cell_type": "code",
      "execution_count": null,
      "metadata": {
        "colab": {
          "base_uri": "https://localhost:8080/",
          "height": 447
        },
        "id": "yinaJ-KiAURa",
        "outputId": "93431f63-5ec6-49f2-b4e9-ec3da61390f3"
      },
      "outputs": [
        {
          "output_type": "execute_result",
          "data": {
            "text/plain": [
              "<matplotlib.collections.LineCollection at 0x7b31682bace0>"
            ]
          },
          "metadata": {},
          "execution_count": 3
        },
        {
          "output_type": "display_data",
          "data": {
            "text/plain": [
              "<Figure size 640x480 with 1 Axes>"
            ],
            "image/png": "[encoded data removed]"
          },
          "metadata": {}
        }
      ],
      "source": [
        "def f(x):\n",
        "    return np.cos(x)\n",
        "\n",
        "def df(x):\n",
        "    return -np.sin(x)\n",
        "\n",
        "xmin=0\n",
        "xmax=2\n",
        "x=np.linspace(xmin,xmax,1000)\n",
        "\n",
        "plt.plot(x,f(x))\n",
        "plt.hlines(0,xmin,xmax)"
      ]
    },
    {
      "cell_type": "markdown",
      "metadata": {
        "id": "Yloh_38yAURa"
      },
      "source": [
        "# Método de Newton-Raphson (Newton)\n",
        "<img src=\"nr.png\" alt=\"drawing\" width=\"500\"/>\n",
        "\n",
        "#### Algoritmo\n",
        "0. Semillas $f(x), p_0$\n",
        "\n",
        "\n",
        "1. Derivar $f(x)$ ...... $f'(x)=\\frac{df}{dx}$\n",
        "\n",
        "\n",
        "2. $p_n=p_{n-1} -\\frac{f(p_{n-1})}{f'(p_{n-1})}$\n",
        "\n",
        "\n",
        "3. Repetir hasta que se cumpla alguna:\n",
        "$$|f(p)|<Tolerancia\\approx 0 \\checkmark$$\n",
        "\n",
        "$$N_{iter}=N_{max}$$\n",
        "\n",
        "$$|p_n-p_{n-1}|<Resolucion\\approx 0$$\n",
        "\n",
        "$$\\frac{|p_n-p_{n-1}|}{|p_n|}< Resolución \\%$$\n",
        "\n",
        "# Cuidado con la convergencia\n",
        "<img src=\"nr2.png\" alt=\"drawing\" width=\"500\"/>\n",
        "\n",
        "#### Capítulo 2: Burden - Numerical analysis"
      ]
    },
    {
      "cell_type": "code",
      "execution_count": null,
      "metadata": {
        "id": "_0RLOdllAURa"
      },
      "outputs": [],
      "source": [
        "def newton_raphson(f,df,x0,tol):\n",
        "  xn=x0\n",
        "  n=0\n",
        "  while abs(f(xn))>tol:\n",
        "    xn=xn-f(xn)/df(xn)\n",
        "    n+=1\n",
        "  print('Raiz encontrada en',n,'iteraciones')\n",
        "\n",
        "  return xn"
      ]
    },
    {
      "cell_type": "code",
      "execution_count": null,
      "metadata": {
        "colab": {
          "base_uri": "https://localhost:8080/"
        },
        "id": "s3ocOBc6AURa",
        "outputId": "a4ef9660-f37f-42a2-8129-16d27d39d08a"
      },
      "outputs": [
        {
          "output_type": "stream",
          "name": "stdout",
          "text": [
            "Raiz encontrada en 4 iteraciones\n",
            "1.5707963267948966\n"
          ]
        }
      ],
      "source": [
        "def f(x):\n",
        "    return np.cos(x)\n",
        "\n",
        "def df(x):\n",
        "    return -np.sin(x)\n",
        "\n",
        "tolnr=1e-15\n",
        "rootnr=newton_raphson(f,df,1,tolnr)\n",
        "print(rootnr)"
      ]
    },
    {
      "cell_type": "markdown",
      "metadata": {
        "id": "Ll0L3suwAURb"
      },
      "source": [
        "# Método de Secante\n",
        "<img src=\"sec1.png\" alt=\"drawing\" width=\"500\"/>\n",
        "\n",
        "#### Algoritmo\n",
        "0. Semillas $f(x), p_0, p_1$\n",
        "\n",
        "\n",
        "1. $p_2=p_1-\\frac{f(p_1)(p_1 - p_0)}{f(p_1)-f(p_0)}$\n",
        "\n",
        "\n",
        "2. $p_n=p_{n-1}-\\frac{f(p_{n-1})(p_{n-1} - p_{n-2})}{f(p_{n-1})-f(p_{n-2})}$\n",
        "\n",
        "\n",
        "3. Repetir hasta que se cumpla alguna:\n",
        "$$|f(p)|<Tolerancia\\approx 0  $$\n",
        "\n",
        "$$N_{iter}=N_{max}$$\n",
        "\n",
        "$$|p_n-p_{n-1}|<Resolucion\\approx 0 \\checkmark$$\n",
        "\n",
        "$$\\frac{|p_n-p_{n-1}|}{|p_n|}< Resolución \\%$$\n",
        "\n",
        "\n",
        "# Cuidado con la convergencia\n",
        "\n",
        "$f(p_{n-1}) \\neq f(p_{n-2})$"
      ]
    },
    {
      "cell_type": "code",
      "execution_count": null,
      "metadata": {
        "id": "E4EOg9rFAURb"
      },
      "outputs": [],
      "source": [
        "def secante(f,p0,p1,tol):\n",
        "\n",
        "  pn=p1-f(p1)*(p1-p0)/(f(p1)-f(p0))\n",
        "  n=2\n",
        "  while abs(f(pn))>tol:\n",
        "    p0=p1\n",
        "    p1=pn\n",
        "    pn=p1-f(p1)*(p1-p0)/(f(p1)-f(p0))\n",
        "    n+=1\n",
        "\n",
        "  print('Raiz encontrada en',n,'iteraciones')\n",
        "\n",
        "  return pn"
      ]
    },
    {
      "cell_type": "code",
      "execution_count": null,
      "metadata": {
        "colab": {
          "base_uri": "https://localhost:8080/"
        },
        "id": "7dsaIMU8AURb",
        "outputId": "3203f7c7-5a73-4cf6-eabf-34a19341101b"
      },
      "outputs": [
        {
          "output_type": "stream",
          "name": "stdout",
          "text": [
            "Raiz encontrada en 5 iteraciones\n",
            "1.5707963267948966\n"
          ]
        }
      ],
      "source": [
        "tolsec=1e-15\n",
        "rootsec=secante(f,1,2,tolsec)\n",
        "print(rootsec)"
      ]
    },
    {
      "cell_type": "markdown",
      "metadata": {
        "id": "30DDkwkrAURb"
      },
      "source": [
        "# Método de Posición falsa (Regla Falsa o Regula Falsi)\n",
        "\n",
        "Combina el método de la secante con el método de bisección\n",
        "\n",
        "<img src=\"regfal1.png\" alt=\"drawing\" width=\"500\"/>\n",
        "\n",
        "#### Algoritmo\n",
        "0. Semillas $f(x), a, b$\n",
        "\n",
        "\n",
        "1. Check $f(a)f(b) < 0$\n",
        "\n",
        "\n",
        "2. $p=b-\\frac{f(b)(b-a)}{f(b)-f(a)}$\n",
        "\n",
        "\n",
        "3. Si $f(a)f(p)<0$ entonces $b=p$\n",
        "\n",
        "\n",
        "4. Si $f(p)f(b)<0$ entonces $a=p$\n",
        "\n",
        "\n",
        "5. Repetir hasta que se cumpla alguna:\n",
        "$$|f(p)|<Tolerancia\\approx 0   $$\n",
        "\n",
        "$$N_{iter}=N_{max}$$\n",
        "\n",
        "$$|p_n-p_{n-1}|<Resolucion\\approx 0 \\checkmark$$\n",
        "\n",
        "$$\\frac{|p_n-p_{n-1}|}{|p_n|}< Resolución \\%$$"
      ]
    },
    {
      "cell_type": "code",
      "execution_count": null,
      "metadata": {
        "id": "9TpYK91GAURb"
      },
      "outputs": [],
      "source": []
    },
    {
      "cell_type": "code",
      "execution_count": null,
      "metadata": {
        "id": "gA3IKUn0AURb"
      },
      "outputs": [],
      "source": []
    },
    {
      "cell_type": "markdown",
      "metadata": {
        "id": "h2E-Y1wtAURb"
      },
      "source": [
        "# Revisar:\n",
        "https://nbviewer.jupyter.org/github/sbustamante/ComputationalMethods/blob/master/material/one-variable-equations.ipynb\n",
        "\n",
        "#### Reto:  Actividad lentes gravitacionales\n",
        "#### Reto:  Kepler por cada uno de los métodos ¿Es posible?"
      ]
    },
    {
      "cell_type": "code",
      "execution_count": null,
      "metadata": {
        "id": "CFKuvpJWAURb"
      },
      "outputs": [],
      "source": []
    }
  ],
  "metadata": {
    "kernelspec": {
      "display_name": "Python 3 (ipykernel)",
      "language": "python",
      "name": "python3"
    },
    "language_info": {
      "codemirror_mode": {
        "name": "ipython",
        "version": 3
      },
      "file_extension": ".py",
      "mimetype": "text/x-python",
      "name": "python",
      "nbconvert_exporter": "python",
      "pygments_lexer": "ipython3",
      "version": "3.9.13"
    },
    "colab": {
      "provenance": []
    }
  },
  "nbformat": 4,
  "nbformat_minor": 0
}