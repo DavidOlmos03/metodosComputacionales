{
 "cells": [
  {
   "cell_type": "code",
   "execution_count": 1,
   "metadata": {},
   "outputs": [],
   "source": [
    "import numpy as np\n",
    "import matplotlib.pyplot as plt\n",
    "%matplotlib inline"
   ]
  },
  {
   "cell_type": "markdown",
   "metadata": {},
   "source": [
    "# Formato Markdown\n",
    "\n",
    "Permite el uso de LaTeX. Por ejemplo: \n",
    "\n",
    "$$\\frac{1}{2}+x=3$$\n",
    "\n",
    "# Operaciones básicas"
   ]
  },
  {
   "cell_type": "code",
   "execution_count": 2,
   "metadata": {},
   "outputs": [],
   "source": [
    "#Suma + , -"
   ]
  },
  {
   "cell_type": "code",
   "execution_count": 3,
   "metadata": {},
   "outputs": [],
   "source": [
    "#Multiplicación *"
   ]
  },
  {
   "cell_type": "code",
   "execution_count": 4,
   "metadata": {},
   "outputs": [],
   "source": [
    "#División /"
   ]
  },
  {
   "cell_type": "code",
   "execution_count": 5,
   "metadata": {},
   "outputs": [],
   "source": [
    "#Potencias ** (Raices)"
   ]
  },
  {
   "cell_type": "markdown",
   "metadata": {},
   "source": [
    "# Listas, Tuplas y Arreglos"
   ]
  },
  {
   "cell_type": "code",
   "execution_count": 6,
   "metadata": {},
   "outputs": [
    {
     "name": "stdout",
     "output_type": "stream",
     "text": [
      "La posición 0 de la lista a es:\n",
      "Sumar listas:\n",
      "Sumar elementos de la lista:\n",
      "Imprimir desde el elemento 1 hasta el elemento 3\n",
      "Uso de append:\n"
     ]
    }
   ],
   "source": [
    "#Listas []\n",
    "a = [2,3,4,'Hola','Métodos'] \n",
    "b = [1,4,5,'Mundo','Computacionales']\n",
    "\n",
    "#Operaciones con listas\n",
    "print('La posición 0 de la lista a es:')\n",
    "\n",
    "#Suma de listas\n",
    "print('Sumar listas:')\n",
    "\n",
    "print('Sumar elementos de la lista:')\n",
    "\n",
    "#Multiplicación (No se puede, lista a lista, pero si elemento a elemento)\n",
    "\n",
    "#imprimir algunos elementos\n",
    "print('Imprimir desde el elemento 1 hasta el elemento 3')\n",
    "\n",
    "#Agregar objetos a las listas\n",
    "\n",
    "print('Uso de append:')"
   ]
  },
  {
   "cell_type": "code",
   "execution_count": 7,
   "metadata": {},
   "outputs": [
    {
     "name": "stdout",
     "output_type": "stream",
     "text": [
      "Suma siendo listas: [1, 2, 3, 4, 5, 6, 7, 8, 9, 10]\n",
      "Suma siendo arreglos\n",
      "Funciones como por ejemplo: Cosenos:\n",
      "--------------------------------\n",
      "np.arange\n",
      "np.linspace\n",
      "np.zeros\n"
     ]
    }
   ],
   "source": [
    "#Arreglos (numpy)\n",
    "a=[1,2,3,4,5]\n",
    "b=[6,7,8,9,10]\n",
    "\n",
    "print('Suma siendo listas:',a+b)\n",
    "\n",
    "#Convertir en arreglos\n",
    "\n",
    "print('Suma siendo arreglos')\n",
    "print('Funciones como por ejemplo: Cosenos:')\n",
    "\n",
    "print('--------------------------------')\n",
    "\n",
    "#Crear arreglos \n",
    "#arange\n",
    "print('np.arange') #Start, Stop, Step\n",
    "#linspace\n",
    "print('np.linspace') #Start, Stop, Num\n",
    "#zeros\n",
    "print('np.zeros') #Shape\n",
    "\n"
   ]
  },
  {
   "cell_type": "markdown",
   "metadata": {},
   "source": [
    "# Funciones y Gráficas"
   ]
  },
  {
   "cell_type": "code",
   "execution_count": 8,
   "metadata": {},
   "outputs": [
    {
     "data": {
      "image/png": "[encoded data removed]",
      "text/plain": [
       "<Figure size 800x600 with 1 Axes>"
      ]
     },
     "metadata": {},
     "output_type": "display_data"
    }
   ],
   "source": [
    "#Definición explicita de funciones\n",
    "\n",
    "\n",
    "#Gráficas con matplotlib\n",
    "\n",
    "plt.figure(figsize=(8,6)) #Inicializa #figsize=(largo, alto)\n",
    "plt.title('Título de la figura: $f(x)$') #Para el título\n",
    "plt.xlabel('$x (m)$') #Para el eje x\n",
    "plt.ylabel('$y (a.u)$') #Para el eje y\n",
    "\n",
    "plt.grid() #Activa el grid\n"
   ]
  },
  {
   "cell_type": "markdown",
   "metadata": {},
   "source": [
    "# Variables lógicas\n",
    "\n",
    "Se les asígnan valores binarios: $\\textbf{True, False}$"
   ]
  },
  {
   "cell_type": "code",
   "execution_count": 9,
   "metadata": {},
   "outputs": [
    {
     "name": "stdout",
     "output_type": "stream",
     "text": [
      "Desigualdades\n",
      "Igualdades\n",
      "p y q\n",
      "p o q\n",
      "negar p\n"
     ]
    }
   ],
   "source": [
    "p = True\n",
    "q = False\n",
    "\n",
    "print('Desigualdades')\n",
    "print('Igualdades')\n",
    "\n",
    "#Operaciones\n",
    "print('p y q')\n",
    "print('p o q')\n",
    "print('negar p')"
   ]
  },
  {
   "cell_type": "markdown",
   "metadata": {},
   "source": [
    "# Condicionales\n",
    "\n",
    "$\\textbf{if, elif, else}$ funcionan según las variables lógicas"
   ]
  },
  {
   "cell_type": "code",
   "execution_count": null,
   "metadata": {},
   "outputs": [],
   "source": []
  },
  {
   "cell_type": "markdown",
   "metadata": {},
   "source": [
    "# Ciclos \n",
    "\n",
    "$\\textbf{for}$: funciona dentro de un límite elegido\n",
    "\n",
    "$\\textbf{while}$: funciona según el valor de variables lógicas "
   ]
  },
  {
   "cell_type": "code",
   "execution_count": null,
   "metadata": {},
   "outputs": [],
   "source": []
  },
  {
   "cell_type": "markdown",
   "metadata": {},
   "source": [
    "# Ejercicios\n",
    "\n",
    "1. Escribir un programa que pregunte al usuario su edad y muestre por pantalla si es mayor de edad o no\n",
    "\n",
    "\n",
    "2. Escribir un programa que pida al usuario un número entero y muestre por pantalla si es par o impar.\n",
    "\n",
    "\n",
    "3. Una pizzería ofrece pizzas vegetarianas y no vegetarianas a sus clientes. Los sabores para cada tipo de pizza aparecen a continuación. Sabores vegetarianos: Vegetales y Napolitana. Ingredientes no vegetarianos: Peperoni, Jamon y Ranchera. Escribir un programa que pregunte al usuario si quiere una pizza vegetariana o no, y en función de su respuesta le muestre un menú con los sabores disponibles para que elija. Preguntele además si desea ordenar otra pizza. Al final imprima todos los pedidos. "
   ]
  },
  {
   "cell_type": "code",
   "execution_count": null,
   "metadata": {},
   "outputs": [],
   "source": []
  },
  {
   "cell_type": "code",
   "execution_count": null,
   "metadata": {},
   "outputs": [],
   "source": []
  },
  {
   "cell_type": "code",
   "execution_count": null,
   "metadata": {},
   "outputs": [],
   "source": []
  },
  {
   "cell_type": "markdown",
   "metadata": {},
   "source": [
    "## Taller # 0"
   ]
  },
  {
   "cell_type": "markdown",
   "metadata": {},
   "source": [
    "# Objetivos de hoy\n",
    "\n",
    "- Unidades básicas de computación e información\n",
    "- Resolución numérica\n",
    "- Errores de precisión y redondeo"
   ]
  },
  {
   "cell_type": "markdown",
   "metadata": {},
   "source": [
    "# Unidades básicas de computación e información\n",
    "\n",
    "La unidad básica de computación e información es el $\\textbf{bit}$ y puede tomar valores binarios, estos valores binarios se les asigna $\\textbf{0,1}$\n",
    "\n",
    "Un número $\\textbf{entero}$ puede descomponerse en su representación binaria:\n",
    "\n",
    "```c\n",
    "       10/2     0\n",
    "       5/2      1 \n",
    "       2/2      0\n",
    "       1/2      1\n",
    "```  \n",
    "\n",
    "$10 = 1\\times2^3 + 0\\times2^2 + 1\\times2^1 + 0\\times2^0$\n",
    "\n",
    "$10=1010_2$\n",
    "\n",
    "$10.3125 = 1010..._2$\n",
    "\n",
    "Un número de $\\textbf{punto flotante}$ también puede descomponerse en su representación binaria:\n",
    "\n",
    "```c\n",
    "        Parte entera          Parte fracional\n",
    "       10/2     0          0.3125*2=0.625     0     \n",
    "       5/2      1           0.625*2=1.25      1\n",
    "       2/2      0            0.25*2=0.5       0\n",
    "       1/2      1             0.5*2=1.0       1\n",
    "```  \n",
    "\n",
    "$10 = 1\\times2^3 + 0\\times2^2 + 1\\times2^1 + 0\\times2^0$\n",
    "\n",
    "$0.3125 = 0\\times2^{-1} + 1\\times2^{-2} + 0\\times2^{-3} + 1\\times2^{-4}$\n",
    "\n",
    "$10.3125 = 1010.0101_2$"
   ]
  },
  {
   "cell_type": "code",
   "execution_count": null,
   "metadata": {},
   "outputs": [],
   "source": []
  },
  {
   "cell_type": "markdown",
   "metadata": {},
   "source": [
    "# Resolución numérica\n",
    "\n",
    "### ¿Cuántos números puedo representar con n bits? ¿Cuántás combinaciones posibles puedo armar con 0 o 1?\n",
    "\n",
    "Se puede representar $2^n$ números distintos"
   ]
  },
  {
   "cell_type": "code",
   "execution_count": null,
   "metadata": {},
   "outputs": [],
   "source": []
  },
  {
   "cell_type": "markdown",
   "metadata": {},
   "source": [
    "###### Dependiendo de la arquitectura del computador se pueden representar números de 32 o 64 bits\n",
    "\n",
    "##### Convención IEEE 754\n",
    "\n",
    "<img src=\"float64.png\" alt=\"drawing\" width=\"500\"/>\n"
   ]
  },
  {
   "cell_type": "code",
   "execution_count": 10,
   "metadata": {},
   "outputs": [
    {
     "name": "stdout",
     "output_type": "stream",
     "text": [
      "Posibilidades con 32 bits\n",
      "Posibilidades con 64 bits\n"
     ]
    }
   ],
   "source": [
    "print('Posibilidades con 32 bits') #Single precission\n",
    "print('Posibilidades con 64 bits') #Double precission"
   ]
  },
  {
   "cell_type": "markdown",
   "metadata": {},
   "source": [
    "###### 32 bits\n",
    "\n",
    "$$(-1)^s (1+f)2^{e-127}$$\n",
    "\n",
    "$$s=b_{31}$$\n",
    "\n",
    "$$f=\\sum_{i=1}^{23} b_{23-i} 2^{-i}$$\n",
    "\n",
    "$$e=\\sum_{i=0}^7 b_{23+i} 2^{i}$$"
   ]
  },
  {
   "cell_type": "code",
   "execution_count": 11,
   "metadata": {},
   "outputs": [
    {
     "name": "stdout",
     "output_type": "stream",
     "text": [
      "mínimo exponente\n",
      "máximo exponente,\n",
      "mínimo número\n"
     ]
    }
   ],
   "source": [
    "print('mínimo exponente')\n",
    "print('máximo exponente,')\n",
    "print('mínimo número')"
   ]
  },
  {
   "cell_type": "code",
   "execution_count": null,
   "metadata": {},
   "outputs": [],
   "source": []
  },
  {
   "cell_type": "code",
   "execution_count": null,
   "metadata": {},
   "outputs": [],
   "source": []
  },
  {
   "cell_type": "code",
   "execution_count": null,
   "metadata": {},
   "outputs": [],
   "source": []
  },
  {
   "cell_type": "markdown",
   "metadata": {},
   "source": [
    "###### 64 bits\n",
    "\n",
    "$$(-1)^s (1+f)2^{e-1023}$$\n",
    "\n",
    "$$s=b_{63}$$\n",
    "\n",
    "$$f=\\sum_{i=1}^{52} b_{52-i} 2^{-i}$$\n",
    "\n",
    "$$e=\\sum_{i=0}^{10} b_{52+i} 2^{i}$$"
   ]
  },
  {
   "cell_type": "code",
   "execution_count": 12,
   "metadata": {},
   "outputs": [
    {
     "name": "stdout",
     "output_type": "stream",
     "text": [
      "Comparación de resolución:\n",
      "32 bits\n",
      "64 bits\n"
     ]
    }
   ],
   "source": [
    "print('Comparación de resolución:')\n",
    "print('32 bits')\n",
    "print('64 bits')"
   ]
  },
  {
   "cell_type": "markdown",
   "metadata": {},
   "source": [
    "# Errores de precisión y redondeo\n",
    "\n",
    "Los números al estar limitados al tamaño de bits generan errores\n",
    "\n",
    "### Ejemplos\n",
    "\n",
    "###### Sumas\n",
    "\n",
    "$$\\frac{1}{9}+\\frac{1}{9}+\\frac{1}{9}+\\frac{1}{9}+\\frac{1}{9}+\\frac{1}{9}+\\frac{1}{9}+\\frac{1}{9}+\\frac{1}{9}=1$$\n",
    "\n",
    "$$\\frac{5}{7}+\\frac{1}{3}=\\frac{22}{21}$$"
   ]
  },
  {
   "cell_type": "code",
   "execution_count": null,
   "metadata": {},
   "outputs": [],
   "source": []
  },
  {
   "cell_type": "code",
   "execution_count": null,
   "metadata": {},
   "outputs": [],
   "source": []
  },
  {
   "cell_type": "markdown",
   "metadata": {},
   "source": [
    "###### Multiplicación\n",
    "\n",
    "$$2^{1/5}\\times2^{1/5}\\times2^{1/5}\\times2^{1/5}\\times2^{1/5}=2$$"
   ]
  },
  {
   "cell_type": "code",
   "execution_count": null,
   "metadata": {},
   "outputs": [],
   "source": []
  }
 ],
 "metadata": {
  "kernelspec": {
   "display_name": "Python 3 (ipykernel)",
   "language": "python",
   "name": "python3"
  },
  "language_info": {
   "codemirror_mode": {
    "name": "ipython",
    "version": 3
   },
   "file_extension": ".py",
   "mimetype": "text/x-python",
   "name": "python",
   "nbconvert_exporter": "python",
   "pygments_lexer": "ipython3",
   "version": "3.9.19"
  }
 },
 "nbformat": 4,
 "nbformat_minor": 4
}
